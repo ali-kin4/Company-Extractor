{
 "cells": [
  {
   "cell_type": "code",
   "execution_count": 44,
   "metadata": {},
   "outputs": [],
   "source": [
    "import requests\n",
    "from bs4 import BeautifulSoup\n",
    "import numpy as np\n",
    "import pandas as pd"
   ]
  },
  {
   "cell_type": "code",
   "execution_count": 7,
   "metadata": {},
   "outputs": [],
   "source": [
    "URL = \"https://vic.ir/company/city?cp=364040000%20%20%20&cc=364041235&cn=%D8%A7%D8%B1%D9%88%D9%85%DB%8C%D9%87&pn=%D8%A2%D8%B0%D8%B1%D8%A8%D8%A7%DB%8C%D8%AC%D8%A7%D9%86%20%D8%BA%D8%B1%D8%A8%DB%8C\"\n",
    "r = requests.get(URL)"
   ]
  },
  {
   "cell_type": "code",
   "execution_count": 10,
   "metadata": {},
   "outputs": [],
   "source": [
    "soup = BeautifulSoup(r.content, 'html5lib')\n",
    "# print(soup.prettify())"
   ]
  },
  {
   "cell_type": "code",
   "execution_count": 21,
   "metadata": {},
   "outputs": [],
   "source": [
    "company_text = soup.find(\"ol\")"
   ]
  },
  {
   "cell_type": "code",
   "execution_count": 22,
   "metadata": {},
   "outputs": [],
   "source": [
    "main_text = company_text.find_all(\"a\")"
   ]
  },
  {
   "cell_type": "code",
   "execution_count": 36,
   "metadata": {},
   "outputs": [],
   "source": [
    "step_i = np.arange(0, len(main_text), 2)\n",
    "step_j = np.arange(1, len(main_text), 2)"
   ]
  },
  {
   "cell_type": "code",
   "execution_count": 47,
   "metadata": {},
   "outputs": [],
   "source": [
    "companies = []\n",
    "description = []\n",
    "for step in step_i:\n",
    "    companies.append(main_text[step].text)\n",
    "    \n",
    "for step in step_j:\n",
    "    description.append(main_text[step].text)"
   ]
  },
  {
   "cell_type": "code",
   "execution_count": 48,
   "metadata": {},
   "outputs": [],
   "source": [
    "df = {\"Company Name\": companies,\n",
    "     \"Company Description\": description}\n",
    "df = pd.DataFrame(df)"
   ]
  },
  {
   "cell_type": "code",
   "execution_count": 49,
   "metadata": {},
   "outputs": [
    {
     "data": {
      "text/html": [
       "<div>\n",
       "<style scoped>\n",
       "    .dataframe tbody tr th:only-of-type {\n",
       "        vertical-align: middle;\n",
       "    }\n",
       "\n",
       "    .dataframe tbody tr th {\n",
       "        vertical-align: top;\n",
       "    }\n",
       "\n",
       "    .dataframe thead th {\n",
       "        text-align: right;\n",
       "    }\n",
       "</style>\n",
       "<table border=\"1\" class=\"dataframe\">\n",
       "  <thead>\n",
       "    <tr style=\"text-align: right;\">\n",
       "      <th></th>\n",
       "      <th>Company Name</th>\n",
       "      <th>Company Description</th>\n",
       "    </tr>\n",
       "  </thead>\n",
       "  <tbody>\n",
       "    <tr>\n",
       "      <th>0</th>\n",
       "      <td>آب میوه زرنوش</td>\n",
       "      <td>- عمل آوری و حفاظت میوه و سبزیجات از فساد</td>\n",
       "    </tr>\n",
       "    <tr>\n",
       "      <th>1</th>\n",
       "      <td>آب نور</td>\n",
       "      <td>- ساخت انواع رنگ، روغن جلا و پوشش های مشابه، ...</td>\n",
       "    </tr>\n",
       "    <tr>\n",
       "      <th>2</th>\n",
       "      <td>آترا ارتوپد ارومیه</td>\n",
       "      <td>- ساخت تجهیزات پزشکی و جراحی و وسایل ارتوپدی</td>\n",
       "    </tr>\n",
       "    <tr>\n",
       "      <th>3</th>\n",
       "      <td>آجر زبره ارومیه</td>\n",
       "      <td>- ساخت محصولات گلی و سرامیکی ساختمانی غیر نسوز</td>\n",
       "    </tr>\n",
       "    <tr>\n",
       "      <th>4</th>\n",
       "      <td>آجر فشاری خامنه ای 3</td>\n",
       "      <td>- ساخت محصولات گلی و سرامیکی ساختمانی غیر نسوز</td>\n",
       "    </tr>\n",
       "    <tr>\n",
       "      <th>...</th>\n",
       "      <td>...</td>\n",
       "      <td>...</td>\n",
       "    </tr>\n",
       "    <tr>\n",
       "      <th>817</th>\n",
       "      <td>یوسف ولی قراغاجی</td>\n",
       "      <td>- ساخت سایر تجهیزات الکتریکی طبقه بندی نشده د...</td>\n",
       "    </tr>\n",
       "    <tr>\n",
       "      <th>818</th>\n",
       "      <td>یوسفعلی عباسی انعر-قدرت و جعفر و مهدی نوری پر</td>\n",
       "      <td>- ساخت محصولات گلی و سرامیکی ساختمانی غیر نسوز</td>\n",
       "    </tr>\n",
       "    <tr>\n",
       "      <th>819</th>\n",
       "      <td>یونس حسن زاد</td>\n",
       "      <td>- ساخت انواع محصولات پلاستیکی</td>\n",
       "    </tr>\n",
       "    <tr>\n",
       "      <th>820</th>\n",
       "      <td>یونس گندمی</td>\n",
       "      <td>- ساخت پوشاک، به استثنای پوشاک از پوست خزدار</td>\n",
       "    </tr>\n",
       "    <tr>\n",
       "      <th>821</th>\n",
       "      <td>یکان بام عایق ارومیه</td>\n",
       "      <td>- ساخت سایر محصولات کانی غیر فلزی طبقه بندی ن...</td>\n",
       "    </tr>\n",
       "  </tbody>\n",
       "</table>\n",
       "<p>822 rows × 2 columns</p>\n",
       "</div>"
      ],
      "text/plain": [
       "                                      Company Name  \\\n",
       "0                                    آب میوه زرنوش   \n",
       "1                                           آب نور   \n",
       "2                               آترا ارتوپد ارومیه   \n",
       "3                                  آجر زبره ارومیه   \n",
       "4                             آجر فشاری خامنه ای 3   \n",
       "..                                             ...   \n",
       "817                               یوسف ولی قراغاجی   \n",
       "818  یوسفعلی عباسی انعر-قدرت و جعفر و مهدی نوری پر   \n",
       "819                                   یونس حسن زاد   \n",
       "820                                     یونس گندمی   \n",
       "821                           یکان بام عایق ارومیه   \n",
       "\n",
       "                                   Company Description  \n",
       "0            - عمل آوری و حفاظت میوه و سبزیجات از فساد  \n",
       "1     - ساخت انواع رنگ، روغن جلا و پوشش های مشابه، ...  \n",
       "2         - ساخت تجهیزات پزشکی و جراحی و وسایل ارتوپدی  \n",
       "3       - ساخت محصولات گلی و سرامیکی ساختمانی غیر نسوز  \n",
       "4       - ساخت محصولات گلی و سرامیکی ساختمانی غیر نسوز  \n",
       "..                                                 ...  \n",
       "817   - ساخت سایر تجهیزات الکتریکی طبقه بندی نشده د...  \n",
       "818     - ساخت محصولات گلی و سرامیکی ساختمانی غیر نسوز  \n",
       "819                      - ساخت انواع محصولات پلاستیکی  \n",
       "820       - ساخت پوشاک، به استثنای پوشاک از پوست خزدار  \n",
       "821   - ساخت سایر محصولات کانی غیر فلزی طبقه بندی ن...  \n",
       "\n",
       "[822 rows x 2 columns]"
      ]
     },
     "execution_count": 49,
     "metadata": {},
     "output_type": "execute_result"
    }
   ],
   "source": [
    "df"
   ]
  },
  {
   "cell_type": "code",
   "execution_count": 50,
   "metadata": {},
   "outputs": [],
   "source": [
    "df.to_csv(\"Company_Info.csv\", index=False)"
   ]
  },
  {
   "cell_type": "code",
   "execution_count": 51,
   "metadata": {},
   "outputs": [],
   "source": [
    "df.to_excel(\"Company_Info.xlsx\", index=False)"
   ]
  },
  {
   "cell_type": "code",
   "execution_count": 54,
   "metadata": {},
   "outputs": [],
   "source": [
    "url2 = 'https://vic.ir/company/details?code=1A5660&Company=%D8%A2%D8%AA%D8%B1%D8%A7%20%D8%A7%D8%B1%D8%AA%D9%88%D9%BE%D8%AF%20%D8%A7%D8%B1%D9%88%D9%85%DB%8C%D9%87&Activity=%D8%B3%D8%A7%D8%AE%D8%AA%20%D8%AA%D8%AC%D9%87%DB%8C%D8%B2%D8%A7%D8%AA%20%D9%BE%D8%B2%D8%B4%DA%A9%DB%8C%20%D9%88%20%D8%AC%D8%B1%D8%A7%D8%AD%DB%8C%20%D9%88%20%D9%88%D8%B3%D8%A7%DB%8C%D9%84%20%D8%A7%D8%B1%D8%AA%D9%88%D9%BE%D8%AF%DB%8C'\n",
    "r = requests.get(url2)\n",
    "soup2 = BeautifulSoup(r.content, 'html5lib')"
   ]
  },
  {
   "cell_type": "code",
   "execution_count": 64,
   "metadata": {},
   "outputs": [
    {
     "data": {
      "text/plain": [
       "<article>\n",
       "\n",
       "\n",
       "\n",
       "<h3>مدیران</h3>\n",
       "<hr/>\n",
       "\n",
       "<div class=\"TableHeader\">\n",
       "    <div>سمت</div>\n",
       "    <div>نام </div>\n",
       "    <div>تلفن</div>\n",
       "    <div>ایمیل</div>\n",
       "</div>\n",
       "\n",
       "<br/>\n",
       "<br/>\n",
       "</article>"
      ]
     },
     "execution_count": 64,
     "metadata": {},
     "output_type": "execute_result"
    }
   ],
   "source": [
    "soup2.find_all(\"article\")[1]"
   ]
  },
  {
   "cell_type": "code",
   "execution_count": null,
   "metadata": {},
   "outputs": [],
   "source": []
  }
 ],
 "metadata": {
  "kernelspec": {
   "display_name": "Python 3",
   "language": "python",
   "name": "python3"
  },
  "language_info": {
   "codemirror_mode": {
    "name": "ipython",
    "version": 3
   },
   "file_extension": ".py",
   "mimetype": "text/x-python",
   "name": "python",
   "nbconvert_exporter": "python",
   "pygments_lexer": "ipython3",
   "version": "3.8.5"
  }
 },
 "nbformat": 4,
 "nbformat_minor": 4
}
